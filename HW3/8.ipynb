{
 "cells": [
  {
   "cell_type": "code",
   "execution_count": 91,
   "metadata": {},
   "outputs": [],
   "source": [
    "from Crypto.Cipher import AES\n",
    "from Crypto.PublicKey import RSA\n",
    "from Crypto import Random\n",
    "from Crypto.Cipher import PKCS1_OAEP\n",
    "from Crypto.Random import get_random_bytes\n",
    "from Crypto.Cipher import AES\n",
    "from Crypto.Util.Padding import pad, unpad\n",
    "import numpy as np\n",
    "import base64"
   ]
  },
  {
   "cell_type": "code",
   "execution_count": 92,
   "metadata": {},
   "outputs": [],
   "source": [
    "public_space = {}\n",
    "message_space = {}\n",
    "\n",
    "def generate_keys_rsa() -> (bytes,bytes):\n",
    "    random_generator = Random.new().read\n",
    "    key = RSA.generate(2048, random_generator)\n",
    "    public_key = key.publickey().exportKey()\n",
    "    private_key = key.exportKey()\n",
    "    return (public_key,private_key)\n",
    "\n",
    "def encrypt_rsa(message:bytes, public_key:bytes) -> bytes:\n",
    "    cipher = PKCS1_OAEP.new(RSA.importKey(public_key))\n",
    "    encrypted_message = cipher.encrypt(message)\n",
    "    return encrypted_message\n",
    "\n",
    "def decrypt_rsa(message:bytes, private_key:bytes) -> bytes:\n",
    "    cipher_dec = PKCS1_OAEP.new(RSA.importKey(private_key))\n",
    "    decrypted_message = cipher_dec.decrypt(message)\n",
    "    return decrypted_message\n",
    "\n",
    "def encrypt_aes(text : bytes, key : bytes, iv : bytes) -> bytes:\n",
    "    cipher = AES.new(key, AES.MODE_CBC, iv)\n",
    "    plaintext_padded = pad(text, AES.block_size)\n",
    "    return cipher.encrypt(plaintext_padded)\n",
    "\n",
    "def decrypt_aes(key : bytes, iv : bytes, text : bytes) -> bytes:\n",
    "    cipher = AES.new(key, AES.MODE_CBC, iv)\n",
    "    plaintext_padded = cipher.decrypt(text)\n",
    "    plaintext = unpad(plaintext_padded, AES.block_size)\n",
    "    return plaintext\n",
    "\n",
    "# def send_message(message:str, public_key) -> bytes:\n"
   ]
  },
  {
   "cell_type": "code",
   "execution_count": 93,
   "metadata": {},
   "outputs": [],
   "source": [
    "def handshake(name:str, family_name:str, receiver_id:str):\n",
    "    full_name = name + \"|\" + family_name\n",
    "    public_k = public_space[receiver_id]\n",
    "    encoded_name = encrypt_rsa(message=full_name.encode(), public_key=public_k)\n",
    "    message_space[receiver_id].append(encoded_name)\n",
    "\n",
    "id_A = \"A\"\n",
    "public_key_A, private_key_A = generate_keys_rsa()\n",
    "public_space[\"A\"] = public_key_A\n",
    "message_space[\"A\"] = []\n",
    "\n",
    "name_A = \"name_A\"\n",
    "family_name_A = \"family_A\"\n",
    "\n",
    "id_B = \"B\"\n",
    "public_key_B, private_key_B = generate_keys_rsa()\n",
    "public_space[\"B\"] = public_key_B\n",
    "message_space[\"B\"] = []\n",
    "\n",
    "name_B = \"name_B\"\n",
    "family_name_B = \"family_B\"\n",
    "\n",
    "handshake(name=name_A, family_name=family_name_A, receiver_id=\"B\")\n",
    "handshake(name=name_B, family_name=family_name_B, receiver_id=\"A\")"
   ]
  },
  {
   "cell_type": "markdown",
   "metadata": {},
   "source": [
    "### USER A :\n",
    "B's name and sends encoded \"B name:send number\" to B"
   ]
  },
  {
   "cell_type": "code",
   "execution_count": 94,
   "metadata": {},
   "outputs": [
    {
     "name": "stdout",
     "output_type": "stream",
     "text": [
      "['name_B', 'family_B']\n"
     ]
    }
   ],
   "source": [
    "Bs_name = decrypt_rsa(message_space[\"A\"][0], private_key_A).decode().split(\"|\")\n",
    "decoded_A = []\n",
    "print(Bs_name)\n",
    "message_space[\"B\"].append(encrypt_rsa(f\"{Bs_name[0]}:send number\".encode(), public_key_B))"
   ]
  },
  {
   "cell_type": "markdown",
   "metadata": {},
   "source": [
    "### USER B : \n",
    "decodes user A's message and shows it and then sends encrypted number \"a\" to user A"
   ]
  },
  {
   "cell_type": "code",
   "execution_count": 95,
   "metadata": {},
   "outputs": [
    {
     "name": "stdout",
     "output_type": "stream",
     "text": [
      "Received Message ---> name_B:send number\n",
      "['name_A', 'family_A']\n"
     ]
    }
   ],
   "source": [
    "As_name = decrypt_rsa(message_space[\"B\"][0], private_key_B).decode().split(\"|\")\n",
    "decoded_B = [decrypt_rsa(message_space[\"B\"][-1], private_key_B).decode()]\n",
    "print(\"Received Message --->\",decoded_B[-1])\n",
    "print(As_name)\n",
    "a = 5\n",
    "pub_key_A = RSA.import_key(public_key_A)\n",
    "pub_key_B = RSA.import_key(public_key_B)\n",
    "pr_key_B = RSA.import_key(private_key_B)\n",
    "message_space[\"A\"].append(pow(a ,pub_key_B.e,pub_key_B.n))\n"
   ]
  },
  {
   "cell_type": "markdown",
   "metadata": {},
   "source": [
    "### USER A :\n",
    "chooses a number \"b\" and sends a^b to user B"
   ]
  },
  {
   "cell_type": "code",
   "execution_count": 96,
   "metadata": {},
   "outputs": [],
   "source": [
    "b = 3\n",
    "pwr = pow(message_space[\"A\"][-1],b)\n",
    "message_space[\"B\"].append(pwr)"
   ]
  },
  {
   "cell_type": "markdown",
   "metadata": {},
   "source": [
    "### USER B :\n",
    "get user A's power.<br>\n",
    "Sends it back to A."
   ]
  },
  {
   "cell_type": "code",
   "execution_count": 97,
   "metadata": {},
   "outputs": [],
   "source": [
    "A_power = round(np.log(pow(message_space[\"B\"][-1],pr_key_B.d,pr_key_B.n))/np.log(a),5)\n",
    "# print(\"A's Selected Power ---> \",A_power)\n",
    "message_space[\"A\"].append(encrypt_rsa(f\"{As_name[0]}: power is {A_power}\".encode(), public_key_A))"
   ]
  },
  {
   "cell_type": "markdown",
   "metadata": {},
   "source": [
    "### USER A : \n",
    "Decrypts the message and shows it.<br>\n",
    "If the power is right, send B an AES key"
   ]
  },
  {
   "cell_type": "code",
   "execution_count": 98,
   "metadata": {},
   "outputs": [
    {
     "name": "stdout",
     "output_type": "stream",
     "text": [
      "Decoded message from B --->  name_A: power is 3.0\n"
     ]
    }
   ],
   "source": [
    "shown_message_pwr = decrypt_rsa(message_space[\"A\"][-1], private_key_A).decode()\n",
    "print(\"Decoded message from B ---> \",shown_message_pwr)\n",
    "symmteric_key = get_random_bytes(32)\n",
    "message_space[\"B\"].append(encrypt_rsa(symmteric_key, public_key_B))"
   ]
  },
  {
   "cell_type": "markdown",
   "metadata": {},
   "source": [
    "### USER B :\n",
    "encrypts \"hello\" with the symmetric key that A sent."
   ]
  },
  {
   "cell_type": "code",
   "execution_count": 99,
   "metadata": {},
   "outputs": [],
   "source": [
    "symmteric_key = decrypt_rsa(message_space[\"B\"][-1], private_key_B)\n",
    "iv            = get_random_bytes(16)\n",
    "message = \"hello\"\n",
    "encrypted_message = encrypt_aes(text=message.encode(), key=symmteric_key, iv=iv)\n",
    "message_space[\"A\"].append([encrypted_message, iv])"
   ]
  },
  {
   "cell_type": "markdown",
   "metadata": {},
   "source": [
    "### USER A :\n",
    "opens the message and sees it : "
   ]
  },
  {
   "cell_type": "code",
   "execution_count": 100,
   "metadata": {},
   "outputs": [
    {
     "name": "stdout",
     "output_type": "stream",
     "text": [
      "hello\n"
     ]
    }
   ],
   "source": [
    "decrypted_aes_message = decrypt_aes(key = symmteric_key, \n",
    "                                    iv = message_space[\"A\"][-1][1], text= message_space[\"A\"][-1][0])\n",
    "print(decrypted_aes_message.decode())"
   ]
  }
 ],
 "metadata": {
  "kernelspec": {
   "display_name": "Python 3",
   "language": "python",
   "name": "python3"
  },
  "language_info": {
   "codemirror_mode": {
    "name": "ipython",
    "version": 3
   },
   "file_extension": ".py",
   "mimetype": "text/x-python",
   "name": "python",
   "nbconvert_exporter": "python",
   "pygments_lexer": "ipython3",
   "version": "3.10.12"
  },
  "orig_nbformat": 4
 },
 "nbformat": 4,
 "nbformat_minor": 2
}
